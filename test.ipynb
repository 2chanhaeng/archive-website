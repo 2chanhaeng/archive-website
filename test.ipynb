{
 "cells": [
  {
   "cell_type": "code",
   "execution_count": null,
   "metadata": {},
   "outputs": [],
   "source": []
  }
 ],
 "metadata": {
  "kernelspec": {
   "display_name": "Python 3.10.4 ('venv': venv)",
   "language": "python",
   "name": "python3"
  },
  "language_info": {
   "name": "python",
   "version": "3.10.4"
  },
  "orig_nbformat": 4,
  "vscode": {
   "interpreter": {
    "hash": "74ca09b4ddb1bb6f616ad2b653e62bf1bc848159cad2cff52657d1004814de82"
   }
  }
 },
 "nbformat": 4,
 "nbformat_minor": 2
}
