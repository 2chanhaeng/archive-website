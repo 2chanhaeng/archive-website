{
 "cells": [
  {
   "cell_type": "code",
   "execution_count": 9,
   "metadata": {},
   "outputs": [],
   "source": [
    "from selenium import webdriver\n",
    "from selenium.webdriver import Firefox\n",
    "from selenium.webdriver.firefox.service import Service\n",
    "from webdriver import get_path\n",
    "from util import *\n",
    "import os"
   ]
  },
  {
   "cell_type": "code",
   "execution_count": 6,
   "metadata": {},
   "outputs": [],
   "source": [
    "driver = Firefox(service = Service(get_path()))"
   ]
  },
  {
   "cell_type": "code",
   "execution_count": 10,
   "metadata": {},
   "outputs": [],
   "source": [
    "def save_page_source(url:str, driver:Firefox=driver):\n",
    "    driver.get(url)\n",
    "    driver.implicitly_wait(10)\n",
    "    path = url_to_path(url)\n",
    "    if not os.path.exists(path):\n",
    "        makedirs(path)\n",
    "    with open(path + \"/index.html\", 'w') as html:\n",
    "        html.write(driver.page_source)"
   ]
  },
  {
   "cell_type": "code",
   "execution_count": 11,
   "metadata": {},
   "outputs": [],
   "source": [
    "url = \"https://www.google.com/\"\n",
    "save_page_source(url)"
   ]
  }
 ],
 "metadata": {
  "kernelspec": {
   "display_name": "Python 3.10.4 ('venv': venv)",
   "language": "python",
   "name": "python3"
  },
  "language_info": {
   "codemirror_mode": {
    "name": "ipython",
    "version": 3
   },
   "file_extension": ".py",
   "mimetype": "text/x-python",
   "name": "python",
   "nbconvert_exporter": "python",
   "pygments_lexer": "ipython3",
   "version": "3.10.4"
  },
  "orig_nbformat": 4,
  "vscode": {
   "interpreter": {
    "hash": "74ca09b4ddb1bb6f616ad2b653e62bf1bc848159cad2cff52657d1004814de82"
   }
  }
 },
 "nbformat": 4,
 "nbformat_minor": 2
}
